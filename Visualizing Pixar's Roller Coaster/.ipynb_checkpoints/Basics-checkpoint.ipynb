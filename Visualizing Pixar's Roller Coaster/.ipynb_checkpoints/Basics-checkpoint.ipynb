{
 "cells": [
  {
   "cell_type": "code",
   "execution_count": 1,
   "metadata": {
    "collapsed": true
   },
   "outputs": [],
   "source": [
    "import pandas as pd\n",
    "import matplotlib.pyplot as plt\n",
    "import seaborn as sns\n",
    "%matplotlib inline"
   ]
  },
  {
   "cell_type": "code",
   "execution_count": 2,
   "metadata": {
    "collapsed": false
   },
   "outputs": [
    {
     "name": "stdout",
     "output_type": "stream",
     "text": [
      "15\n",
      "16\n"
     ]
    }
   ],
   "source": [
    "pixar_movies = pd.read_csv('PixarMovies.csv')\n",
    "print(pixar_movies.shape[0])\n",
    "print(pixar_movies.shape[1])"
   ]
  },
  {
   "cell_type": "code",
   "execution_count": 3,
   "metadata": {
    "collapsed": false
   },
   "outputs": [
    {
     "data": {
      "text/html": [
       "<div>\n",
       "<table border=\"1\" class=\"dataframe\">\n",
       "  <thead>\n",
       "    <tr style=\"text-align: right;\">\n",
       "      <th></th>\n",
       "      <th>Year Released</th>\n",
       "      <th>Movie</th>\n",
       "      <th>Length</th>\n",
       "      <th>RT Score</th>\n",
       "      <th>IMDB Score</th>\n",
       "      <th>Metacritic Score</th>\n",
       "      <th>Opening Weekend</th>\n",
       "      <th>Worldwide Gross</th>\n",
       "      <th>Domestic Gross</th>\n",
       "      <th>Adjusted Domestic Gross</th>\n",
       "      <th>International Gross</th>\n",
       "      <th>Domestic %</th>\n",
       "      <th>International %</th>\n",
       "      <th>Production Budget</th>\n",
       "      <th>Oscars Nominated</th>\n",
       "      <th>Oscars Won</th>\n",
       "    </tr>\n",
       "  </thead>\n",
       "  <tbody>\n",
       "    <tr>\n",
       "      <th>0</th>\n",
       "      <td>1995</td>\n",
       "      <td>Toy Story</td>\n",
       "      <td>81</td>\n",
       "      <td>100</td>\n",
       "      <td>8.3</td>\n",
       "      <td>92</td>\n",
       "      <td>29.14</td>\n",
       "      <td>362.0</td>\n",
       "      <td>191.8</td>\n",
       "      <td>356.21</td>\n",
       "      <td>170.2</td>\n",
       "      <td>52.98%</td>\n",
       "      <td>47.02%</td>\n",
       "      <td>30</td>\n",
       "      <td>3.0</td>\n",
       "      <td>0.0</td>\n",
       "    </tr>\n",
       "    <tr>\n",
       "      <th>1</th>\n",
       "      <td>1998</td>\n",
       "      <td>A Bug's Life</td>\n",
       "      <td>96</td>\n",
       "      <td>92</td>\n",
       "      <td>7.2</td>\n",
       "      <td>77</td>\n",
       "      <td>33.26</td>\n",
       "      <td>363.4</td>\n",
       "      <td>162.8</td>\n",
       "      <td>277.18</td>\n",
       "      <td>200.6</td>\n",
       "      <td>44.80%</td>\n",
       "      <td>55.20%</td>\n",
       "      <td>45</td>\n",
       "      <td>1.0</td>\n",
       "      <td>0.0</td>\n",
       "    </tr>\n",
       "    <tr>\n",
       "      <th>2</th>\n",
       "      <td>1999</td>\n",
       "      <td>Toy Story 2</td>\n",
       "      <td>92</td>\n",
       "      <td>100</td>\n",
       "      <td>7.9</td>\n",
       "      <td>88</td>\n",
       "      <td>57.39</td>\n",
       "      <td>485.0</td>\n",
       "      <td>245.9</td>\n",
       "      <td>388.43</td>\n",
       "      <td>239.2</td>\n",
       "      <td>50.70%</td>\n",
       "      <td>49.32%</td>\n",
       "      <td>90</td>\n",
       "      <td>1.0</td>\n",
       "      <td>0.0</td>\n",
       "    </tr>\n",
       "    <tr>\n",
       "      <th>3</th>\n",
       "      <td>2001</td>\n",
       "      <td>Monsters, Inc.</td>\n",
       "      <td>90</td>\n",
       "      <td>96</td>\n",
       "      <td>8.1</td>\n",
       "      <td>78</td>\n",
       "      <td>62.58</td>\n",
       "      <td>528.8</td>\n",
       "      <td>255.9</td>\n",
       "      <td>366.12</td>\n",
       "      <td>272.9</td>\n",
       "      <td>48.39%</td>\n",
       "      <td>51.61%</td>\n",
       "      <td>115</td>\n",
       "      <td>3.0</td>\n",
       "      <td>1.0</td>\n",
       "    </tr>\n",
       "    <tr>\n",
       "      <th>4</th>\n",
       "      <td>2003</td>\n",
       "      <td>Finding Nemo</td>\n",
       "      <td>104</td>\n",
       "      <td>99</td>\n",
       "      <td>8.2</td>\n",
       "      <td>90</td>\n",
       "      <td>70.25</td>\n",
       "      <td>895.6</td>\n",
       "      <td>339.7</td>\n",
       "      <td>457.46</td>\n",
       "      <td>555.9</td>\n",
       "      <td>37.93%</td>\n",
       "      <td>62.07%</td>\n",
       "      <td>94</td>\n",
       "      <td>4.0</td>\n",
       "      <td>1.0</td>\n",
       "    </tr>\n",
       "  </tbody>\n",
       "</table>\n",
       "</div>"
      ],
      "text/plain": [
       "   Year Released           Movie  Length  RT Score  IMDB Score  \\\n",
       "0           1995       Toy Story      81       100         8.3   \n",
       "1           1998    A Bug's Life      96        92         7.2   \n",
       "2           1999     Toy Story 2      92       100         7.9   \n",
       "3           2001  Monsters, Inc.      90        96         8.1   \n",
       "4           2003    Finding Nemo     104        99         8.2   \n",
       "\n",
       "   Metacritic Score  Opening Weekend  Worldwide Gross  Domestic Gross  \\\n",
       "0                92            29.14            362.0           191.8   \n",
       "1                77            33.26            363.4           162.8   \n",
       "2                88            57.39            485.0           245.9   \n",
       "3                78            62.58            528.8           255.9   \n",
       "4                90            70.25            895.6           339.7   \n",
       "\n",
       "   Adjusted Domestic Gross  International Gross Domestic % International %  \\\n",
       "0                   356.21                170.2     52.98%          47.02%   \n",
       "1                   277.18                200.6     44.80%          55.20%   \n",
       "2                   388.43                239.2     50.70%          49.32%   \n",
       "3                   366.12                272.9     48.39%          51.61%   \n",
       "4                   457.46                555.9     37.93%          62.07%   \n",
       "\n",
       "   Production Budget  Oscars Nominated  Oscars Won  \n",
       "0                 30               3.0         0.0  \n",
       "1                 45               1.0         0.0  \n",
       "2                 90               1.0         0.0  \n",
       "3                115               3.0         1.0  \n",
       "4                 94               4.0         1.0  "
      ]
     },
     "execution_count": 3,
     "metadata": {},
     "output_type": "execute_result"
    }
   ],
   "source": [
    "pixar_movies.head()"
   ]
  },
  {
   "cell_type": "code",
   "execution_count": 4,
   "metadata": {
    "collapsed": false
   },
   "outputs": [
    {
     "data": {
      "text/plain": [
       "Year Released                int64\n",
       "Movie                       object\n",
       "Length                       int64\n",
       "RT Score                     int64\n",
       "IMDB Score                 float64\n",
       "Metacritic Score             int64\n",
       "Opening Weekend            float64\n",
       "Worldwide Gross            float64\n",
       "Domestic Gross             float64\n",
       "Adjusted Domestic Gross    float64\n",
       "International Gross        float64\n",
       "Domestic %                  object\n",
       "International %             object\n",
       "Production Budget            int64\n",
       "Oscars Nominated           float64\n",
       "Oscars Won                 float64\n",
       "dtype: object"
      ]
     },
     "execution_count": 4,
     "metadata": {},
     "output_type": "execute_result"
    }
   ],
   "source": [
    "pixar_movies.dtypes"
   ]
  },
  {
   "cell_type": "code",
   "execution_count": 5,
   "metadata": {
    "collapsed": false
   },
   "outputs": [
    {
     "data": {
      "text/html": [
       "<div>\n",
       "<table border=\"1\" class=\"dataframe\">\n",
       "  <thead>\n",
       "    <tr style=\"text-align: right;\">\n",
       "      <th></th>\n",
       "      <th>Year Released</th>\n",
       "      <th>Length</th>\n",
       "      <th>RT Score</th>\n",
       "      <th>IMDB Score</th>\n",
       "      <th>Metacritic Score</th>\n",
       "      <th>Opening Weekend</th>\n",
       "      <th>Worldwide Gross</th>\n",
       "      <th>Domestic Gross</th>\n",
       "      <th>Adjusted Domestic Gross</th>\n",
       "      <th>International Gross</th>\n",
       "      <th>Production Budget</th>\n",
       "      <th>Oscars Nominated</th>\n",
       "      <th>Oscars Won</th>\n",
       "    </tr>\n",
       "  </thead>\n",
       "  <tbody>\n",
       "    <tr>\n",
       "      <th>count</th>\n",
       "      <td>15.000000</td>\n",
       "      <td>15.000000</td>\n",
       "      <td>15.000000</td>\n",
       "      <td>15.000000</td>\n",
       "      <td>15.000000</td>\n",
       "      <td>15.000000</td>\n",
       "      <td>15.000000</td>\n",
       "      <td>15.000000</td>\n",
       "      <td>15.000000</td>\n",
       "      <td>15.000000</td>\n",
       "      <td>15.000000</td>\n",
       "      <td>14.000000</td>\n",
       "      <td>14.000000</td>\n",
       "    </tr>\n",
       "    <tr>\n",
       "      <th>mean</th>\n",
       "      <td>2006.066667</td>\n",
       "      <td>101.533333</td>\n",
       "      <td>89.333333</td>\n",
       "      <td>7.846667</td>\n",
       "      <td>82.800000</td>\n",
       "      <td>67.990667</td>\n",
       "      <td>612.486667</td>\n",
       "      <td>258.506667</td>\n",
       "      <td>318.448000</td>\n",
       "      <td>353.986667</td>\n",
       "      <td>133.400000</td>\n",
       "      <td>2.857143</td>\n",
       "      <td>0.785714</td>\n",
       "    </tr>\n",
       "    <tr>\n",
       "      <th>std</th>\n",
       "      <td>5.933761</td>\n",
       "      <td>9.927355</td>\n",
       "      <td>16.451950</td>\n",
       "      <td>0.655599</td>\n",
       "      <td>12.119642</td>\n",
       "      <td>23.270468</td>\n",
       "      <td>190.193934</td>\n",
       "      <td>66.518284</td>\n",
       "      <td>73.321064</td>\n",
       "      <td>135.061615</td>\n",
       "      <td>59.696614</td>\n",
       "      <td>2.032700</td>\n",
       "      <td>0.801784</td>\n",
       "    </tr>\n",
       "    <tr>\n",
       "      <th>min</th>\n",
       "      <td>1995.000000</td>\n",
       "      <td>81.000000</td>\n",
       "      <td>39.000000</td>\n",
       "      <td>6.300000</td>\n",
       "      <td>57.000000</td>\n",
       "      <td>29.140000</td>\n",
       "      <td>362.000000</td>\n",
       "      <td>162.800000</td>\n",
       "      <td>194.430000</td>\n",
       "      <td>170.200000</td>\n",
       "      <td>30.000000</td>\n",
       "      <td>0.000000</td>\n",
       "      <td>0.000000</td>\n",
       "    </tr>\n",
       "    <tr>\n",
       "      <th>25%</th>\n",
       "      <td>2002.000000</td>\n",
       "      <td>96.000000</td>\n",
       "      <td>85.000000</td>\n",
       "      <td>7.300000</td>\n",
       "      <td>75.000000</td>\n",
       "      <td>58.755000</td>\n",
       "      <td>503.150000</td>\n",
       "      <td>215.100000</td>\n",
       "      <td>261.350000</td>\n",
       "      <td>256.050000</td>\n",
       "      <td>91.000000</td>\n",
       "      <td>1.000000</td>\n",
       "      <td>0.000000</td>\n",
       "    </tr>\n",
       "    <tr>\n",
       "      <th>50%</th>\n",
       "      <td>2007.000000</td>\n",
       "      <td>102.000000</td>\n",
       "      <td>96.000000</td>\n",
       "      <td>8.000000</td>\n",
       "      <td>88.000000</td>\n",
       "      <td>66.300000</td>\n",
       "      <td>559.900000</td>\n",
       "      <td>245.900000</td>\n",
       "      <td>318.900000</td>\n",
       "      <td>336.600000</td>\n",
       "      <td>150.000000</td>\n",
       "      <td>3.000000</td>\n",
       "      <td>1.000000</td>\n",
       "    </tr>\n",
       "    <tr>\n",
       "      <th>75%</th>\n",
       "      <td>2010.500000</td>\n",
       "      <td>109.000000</td>\n",
       "      <td>98.500000</td>\n",
       "      <td>8.300000</td>\n",
       "      <td>92.000000</td>\n",
       "      <td>76.450000</td>\n",
       "      <td>704.200000</td>\n",
       "      <td>280.750000</td>\n",
       "      <td>361.165000</td>\n",
       "      <td>427.800000</td>\n",
       "      <td>182.500000</td>\n",
       "      <td>4.750000</td>\n",
       "      <td>1.000000</td>\n",
       "    </tr>\n",
       "    <tr>\n",
       "      <th>max</th>\n",
       "      <td>2015.000000</td>\n",
       "      <td>116.000000</td>\n",
       "      <td>100.000000</td>\n",
       "      <td>8.800000</td>\n",
       "      <td>96.000000</td>\n",
       "      <td>110.310000</td>\n",
       "      <td>1063.200000</td>\n",
       "      <td>415.000000</td>\n",
       "      <td>457.460000</td>\n",
       "      <td>648.200000</td>\n",
       "      <td>200.000000</td>\n",
       "      <td>6.000000</td>\n",
       "      <td>2.000000</td>\n",
       "    </tr>\n",
       "  </tbody>\n",
       "</table>\n",
       "</div>"
      ],
      "text/plain": [
       "       Year Released      Length    RT Score  IMDB Score  Metacritic Score  \\\n",
       "count      15.000000   15.000000   15.000000   15.000000         15.000000   \n",
       "mean     2006.066667  101.533333   89.333333    7.846667         82.800000   \n",
       "std         5.933761    9.927355   16.451950    0.655599         12.119642   \n",
       "min      1995.000000   81.000000   39.000000    6.300000         57.000000   \n",
       "25%      2002.000000   96.000000   85.000000    7.300000         75.000000   \n",
       "50%      2007.000000  102.000000   96.000000    8.000000         88.000000   \n",
       "75%      2010.500000  109.000000   98.500000    8.300000         92.000000   \n",
       "max      2015.000000  116.000000  100.000000    8.800000         96.000000   \n",
       "\n",
       "       Opening Weekend  Worldwide Gross  Domestic Gross  \\\n",
       "count        15.000000        15.000000       15.000000   \n",
       "mean         67.990667       612.486667      258.506667   \n",
       "std          23.270468       190.193934       66.518284   \n",
       "min          29.140000       362.000000      162.800000   \n",
       "25%          58.755000       503.150000      215.100000   \n",
       "50%          66.300000       559.900000      245.900000   \n",
       "75%          76.450000       704.200000      280.750000   \n",
       "max         110.310000      1063.200000      415.000000   \n",
       "\n",
       "       Adjusted Domestic Gross  International Gross  Production Budget  \\\n",
       "count                15.000000            15.000000          15.000000   \n",
       "mean                318.448000           353.986667         133.400000   \n",
       "std                  73.321064           135.061615          59.696614   \n",
       "min                 194.430000           170.200000          30.000000   \n",
       "25%                 261.350000           256.050000          91.000000   \n",
       "50%                 318.900000           336.600000         150.000000   \n",
       "75%                 361.165000           427.800000         182.500000   \n",
       "max                 457.460000           648.200000         200.000000   \n",
       "\n",
       "       Oscars Nominated  Oscars Won  \n",
       "count         14.000000   14.000000  \n",
       "mean           2.857143    0.785714  \n",
       "std            2.032700    0.801784  \n",
       "min            0.000000    0.000000  \n",
       "25%            1.000000    0.000000  \n",
       "50%            3.000000    1.000000  \n",
       "75%            4.750000    1.000000  \n",
       "max            6.000000    2.000000  "
      ]
     },
     "execution_count": 5,
     "metadata": {},
     "output_type": "execute_result"
    }
   ],
   "source": [
    "pixar_movies.describe()"
   ]
  },
  {
   "cell_type": "code",
   "execution_count": 8,
   "metadata": {
    "collapsed": true
   },
   "outputs": [],
   "source": [
    "\n",
    "# Use the `str` attribute followed by the string method `rstrip()` to apply the string method \n",
    "# to every value in the column.  Use the `astype()` method to cast the column to the float data type.\n",
    "pixar_movies[\"Domestic %\"] = pixar_movies[\"Domestic %\"].str.rstrip(\"%\").astype(\"float\")\n",
    "pixar_movies[\"International %\"] = pixar_movies[\"International %\"].str.rstrip(\"%\").astype(\"float\")"
   ]
  },
  {
   "cell_type": "code",
   "execution_count": 9,
   "metadata": {
    "collapsed": true
   },
   "outputs": [],
   "source": [
    "pixar_movies['IMDB Score'] = pixar_movies['IMDB Score']*10"
   ]
  },
  {
   "cell_type": "code",
   "execution_count": 10,
   "metadata": {
    "collapsed": true
   },
   "outputs": [],
   "source": [
    "# Create a new DataFrame containing only the first 14 rows.\n",
    "filtered_pixar = pixar_movies.loc[0:13]"
   ]
  },
  {
   "cell_type": "code",
   "execution_count": 11,
   "metadata": {
    "collapsed": true
   },
   "outputs": [],
   "source": [
    "# Set the `Movie` column as the index for the DataFrame.\n",
    "pixar_movies.set_index(\"Movie\", inplace=True)\n",
    "filtered_pixar.set_index(\"Movie\", inplace=True)"
   ]
  },
  {
   "cell_type": "code",
   "execution_count": 12,
   "metadata": {
    "collapsed": false
   },
   "outputs": [
    {
     "data": {
      "text/html": [
       "<div>\n",
       "<table border=\"1\" class=\"dataframe\">\n",
       "  <thead>\n",
       "    <tr style=\"text-align: right;\">\n",
       "      <th></th>\n",
       "      <th>Year Released</th>\n",
       "      <th>Length</th>\n",
       "      <th>RT Score</th>\n",
       "      <th>IMDB Score</th>\n",
       "      <th>Metacritic Score</th>\n",
       "      <th>Opening Weekend</th>\n",
       "      <th>Worldwide Gross</th>\n",
       "      <th>Domestic Gross</th>\n",
       "      <th>Adjusted Domestic Gross</th>\n",
       "      <th>International Gross</th>\n",
       "      <th>Domestic %</th>\n",
       "      <th>International %</th>\n",
       "      <th>Production Budget</th>\n",
       "      <th>Oscars Nominated</th>\n",
       "      <th>Oscars Won</th>\n",
       "    </tr>\n",
       "    <tr>\n",
       "      <th>Movie</th>\n",
       "      <th></th>\n",
       "      <th></th>\n",
       "      <th></th>\n",
       "      <th></th>\n",
       "      <th></th>\n",
       "      <th></th>\n",
       "      <th></th>\n",
       "      <th></th>\n",
       "      <th></th>\n",
       "      <th></th>\n",
       "      <th></th>\n",
       "      <th></th>\n",
       "      <th></th>\n",
       "      <th></th>\n",
       "      <th></th>\n",
       "    </tr>\n",
       "  </thead>\n",
       "  <tbody>\n",
       "    <tr>\n",
       "      <th>Toy Story</th>\n",
       "      <td>1995</td>\n",
       "      <td>81</td>\n",
       "      <td>100</td>\n",
       "      <td>83.0</td>\n",
       "      <td>92</td>\n",
       "      <td>29.14</td>\n",
       "      <td>362.0</td>\n",
       "      <td>191.8</td>\n",
       "      <td>356.21</td>\n",
       "      <td>170.2</td>\n",
       "      <td>52.98</td>\n",
       "      <td>47.02</td>\n",
       "      <td>30</td>\n",
       "      <td>3.0</td>\n",
       "      <td>0.0</td>\n",
       "    </tr>\n",
       "    <tr>\n",
       "      <th>A Bug's Life</th>\n",
       "      <td>1998</td>\n",
       "      <td>96</td>\n",
       "      <td>92</td>\n",
       "      <td>72.0</td>\n",
       "      <td>77</td>\n",
       "      <td>33.26</td>\n",
       "      <td>363.4</td>\n",
       "      <td>162.8</td>\n",
       "      <td>277.18</td>\n",
       "      <td>200.6</td>\n",
       "      <td>44.80</td>\n",
       "      <td>55.20</td>\n",
       "      <td>45</td>\n",
       "      <td>1.0</td>\n",
       "      <td>0.0</td>\n",
       "    </tr>\n",
       "    <tr>\n",
       "      <th>Toy Story 2</th>\n",
       "      <td>1999</td>\n",
       "      <td>92</td>\n",
       "      <td>100</td>\n",
       "      <td>79.0</td>\n",
       "      <td>88</td>\n",
       "      <td>57.39</td>\n",
       "      <td>485.0</td>\n",
       "      <td>245.9</td>\n",
       "      <td>388.43</td>\n",
       "      <td>239.2</td>\n",
       "      <td>50.70</td>\n",
       "      <td>49.32</td>\n",
       "      <td>90</td>\n",
       "      <td>1.0</td>\n",
       "      <td>0.0</td>\n",
       "    </tr>\n",
       "    <tr>\n",
       "      <th>Monsters, Inc.</th>\n",
       "      <td>2001</td>\n",
       "      <td>90</td>\n",
       "      <td>96</td>\n",
       "      <td>81.0</td>\n",
       "      <td>78</td>\n",
       "      <td>62.58</td>\n",
       "      <td>528.8</td>\n",
       "      <td>255.9</td>\n",
       "      <td>366.12</td>\n",
       "      <td>272.9</td>\n",
       "      <td>48.39</td>\n",
       "      <td>51.61</td>\n",
       "      <td>115</td>\n",
       "      <td>3.0</td>\n",
       "      <td>1.0</td>\n",
       "    </tr>\n",
       "    <tr>\n",
       "      <th>Finding Nemo</th>\n",
       "      <td>2003</td>\n",
       "      <td>104</td>\n",
       "      <td>99</td>\n",
       "      <td>82.0</td>\n",
       "      <td>90</td>\n",
       "      <td>70.25</td>\n",
       "      <td>895.6</td>\n",
       "      <td>339.7</td>\n",
       "      <td>457.46</td>\n",
       "      <td>555.9</td>\n",
       "      <td>37.93</td>\n",
       "      <td>62.07</td>\n",
       "      <td>94</td>\n",
       "      <td>4.0</td>\n",
       "      <td>1.0</td>\n",
       "    </tr>\n",
       "    <tr>\n",
       "      <th>The Incredibles</th>\n",
       "      <td>2004</td>\n",
       "      <td>115</td>\n",
       "      <td>97</td>\n",
       "      <td>80.0</td>\n",
       "      <td>90</td>\n",
       "      <td>70.47</td>\n",
       "      <td>631.4</td>\n",
       "      <td>261.4</td>\n",
       "      <td>341.28</td>\n",
       "      <td>370.0</td>\n",
       "      <td>41.40</td>\n",
       "      <td>58.60</td>\n",
       "      <td>92</td>\n",
       "      <td>4.0</td>\n",
       "      <td>2.0</td>\n",
       "    </tr>\n",
       "    <tr>\n",
       "      <th>Cars</th>\n",
       "      <td>2006</td>\n",
       "      <td>116</td>\n",
       "      <td>74</td>\n",
       "      <td>72.0</td>\n",
       "      <td>73</td>\n",
       "      <td>60.12</td>\n",
       "      <td>462.0</td>\n",
       "      <td>244.1</td>\n",
       "      <td>302.59</td>\n",
       "      <td>217.9</td>\n",
       "      <td>52.84</td>\n",
       "      <td>47.16</td>\n",
       "      <td>70</td>\n",
       "      <td>2.0</td>\n",
       "      <td>0.0</td>\n",
       "    </tr>\n",
       "    <tr>\n",
       "      <th>Ratatouille</th>\n",
       "      <td>2007</td>\n",
       "      <td>111</td>\n",
       "      <td>96</td>\n",
       "      <td>80.0</td>\n",
       "      <td>96</td>\n",
       "      <td>47.00</td>\n",
       "      <td>623.7</td>\n",
       "      <td>206.4</td>\n",
       "      <td>243.65</td>\n",
       "      <td>417.3</td>\n",
       "      <td>33.09</td>\n",
       "      <td>66.91</td>\n",
       "      <td>150</td>\n",
       "      <td>5.0</td>\n",
       "      <td>1.0</td>\n",
       "    </tr>\n",
       "    <tr>\n",
       "      <th>WALL-E</th>\n",
       "      <td>2008</td>\n",
       "      <td>97</td>\n",
       "      <td>96</td>\n",
       "      <td>84.0</td>\n",
       "      <td>94</td>\n",
       "      <td>63.10</td>\n",
       "      <td>521.3</td>\n",
       "      <td>223.8</td>\n",
       "      <td>253.11</td>\n",
       "      <td>297.5</td>\n",
       "      <td>42.93</td>\n",
       "      <td>57.07</td>\n",
       "      <td>180</td>\n",
       "      <td>6.0</td>\n",
       "      <td>1.0</td>\n",
       "    </tr>\n",
       "    <tr>\n",
       "      <th>Up</th>\n",
       "      <td>2009</td>\n",
       "      <td>96</td>\n",
       "      <td>98</td>\n",
       "      <td>83.0</td>\n",
       "      <td>88</td>\n",
       "      <td>68.11</td>\n",
       "      <td>731.3</td>\n",
       "      <td>293.0</td>\n",
       "      <td>318.90</td>\n",
       "      <td>438.3</td>\n",
       "      <td>40.07</td>\n",
       "      <td>59.93</td>\n",
       "      <td>175</td>\n",
       "      <td>5.0</td>\n",
       "      <td>2.0</td>\n",
       "    </tr>\n",
       "    <tr>\n",
       "      <th>Toy Story 3</th>\n",
       "      <td>2010</td>\n",
       "      <td>103</td>\n",
       "      <td>99</td>\n",
       "      <td>84.0</td>\n",
       "      <td>92</td>\n",
       "      <td>110.31</td>\n",
       "      <td>1063.2</td>\n",
       "      <td>415.0</td>\n",
       "      <td>423.88</td>\n",
       "      <td>648.2</td>\n",
       "      <td>39.03</td>\n",
       "      <td>60.97</td>\n",
       "      <td>200</td>\n",
       "      <td>5.0</td>\n",
       "      <td>2.0</td>\n",
       "    </tr>\n",
       "    <tr>\n",
       "      <th>Cars 2</th>\n",
       "      <td>2011</td>\n",
       "      <td>113</td>\n",
       "      <td>39</td>\n",
       "      <td>63.0</td>\n",
       "      <td>57</td>\n",
       "      <td>109.00</td>\n",
       "      <td>559.9</td>\n",
       "      <td>191.5</td>\n",
       "      <td>194.43</td>\n",
       "      <td>368.4</td>\n",
       "      <td>34.20</td>\n",
       "      <td>65.80</td>\n",
       "      <td>200</td>\n",
       "      <td>0.0</td>\n",
       "      <td>0.0</td>\n",
       "    </tr>\n",
       "    <tr>\n",
       "      <th>Brave</th>\n",
       "      <td>2012</td>\n",
       "      <td>100</td>\n",
       "      <td>78</td>\n",
       "      <td>72.0</td>\n",
       "      <td>69</td>\n",
       "      <td>66.30</td>\n",
       "      <td>539.0</td>\n",
       "      <td>237.3</td>\n",
       "      <td>243.39</td>\n",
       "      <td>301.7</td>\n",
       "      <td>44.03</td>\n",
       "      <td>55.97</td>\n",
       "      <td>185</td>\n",
       "      <td>1.0</td>\n",
       "      <td>1.0</td>\n",
       "    </tr>\n",
       "    <tr>\n",
       "      <th>Monsters University</th>\n",
       "      <td>2013</td>\n",
       "      <td>107</td>\n",
       "      <td>78</td>\n",
       "      <td>74.0</td>\n",
       "      <td>65</td>\n",
       "      <td>82.43</td>\n",
       "      <td>743.6</td>\n",
       "      <td>268.5</td>\n",
       "      <td>269.59</td>\n",
       "      <td>475.1</td>\n",
       "      <td>36.11</td>\n",
       "      <td>63.89</td>\n",
       "      <td>200</td>\n",
       "      <td>0.0</td>\n",
       "      <td>0.0</td>\n",
       "    </tr>\n",
       "    <tr>\n",
       "      <th>Inside Out</th>\n",
       "      <td>2015</td>\n",
       "      <td>102</td>\n",
       "      <td>98</td>\n",
       "      <td>88.0</td>\n",
       "      <td>93</td>\n",
       "      <td>90.40</td>\n",
       "      <td>677.1</td>\n",
       "      <td>340.5</td>\n",
       "      <td>340.50</td>\n",
       "      <td>336.6</td>\n",
       "      <td>50.29</td>\n",
       "      <td>49.71</td>\n",
       "      <td>175</td>\n",
       "      <td>NaN</td>\n",
       "      <td>NaN</td>\n",
       "    </tr>\n",
       "  </tbody>\n",
       "</table>\n",
       "</div>"
      ],
      "text/plain": [
       "                     Year Released  Length  RT Score  IMDB Score  \\\n",
       "Movie                                                              \n",
       "Toy Story                     1995      81       100        83.0   \n",
       "A Bug's Life                  1998      96        92        72.0   \n",
       "Toy Story 2                   1999      92       100        79.0   \n",
       "Monsters, Inc.                2001      90        96        81.0   \n",
       "Finding Nemo                  2003     104        99        82.0   \n",
       "The Incredibles               2004     115        97        80.0   \n",
       "Cars                          2006     116        74        72.0   \n",
       "Ratatouille                   2007     111        96        80.0   \n",
       "WALL-E                        2008      97        96        84.0   \n",
       "Up                            2009      96        98        83.0   \n",
       "Toy Story 3                   2010     103        99        84.0   \n",
       "Cars 2                        2011     113        39        63.0   \n",
       "Brave                         2012     100        78        72.0   \n",
       "Monsters University           2013     107        78        74.0   \n",
       "Inside Out                    2015     102        98        88.0   \n",
       "\n",
       "                     Metacritic Score  Opening Weekend  Worldwide Gross  \\\n",
       "Movie                                                                     \n",
       "Toy Story                          92            29.14            362.0   \n",
       "A Bug's Life                       77            33.26            363.4   \n",
       "Toy Story 2                        88            57.39            485.0   \n",
       "Monsters, Inc.                     78            62.58            528.8   \n",
       "Finding Nemo                       90            70.25            895.6   \n",
       "The Incredibles                    90            70.47            631.4   \n",
       "Cars                               73            60.12            462.0   \n",
       "Ratatouille                        96            47.00            623.7   \n",
       "WALL-E                             94            63.10            521.3   \n",
       "Up                                 88            68.11            731.3   \n",
       "Toy Story 3                        92           110.31           1063.2   \n",
       "Cars 2                             57           109.00            559.9   \n",
       "Brave                              69            66.30            539.0   \n",
       "Monsters University                65            82.43            743.6   \n",
       "Inside Out                         93            90.40            677.1   \n",
       "\n",
       "                     Domestic Gross  Adjusted Domestic Gross  \\\n",
       "Movie                                                          \n",
       "Toy Story                     191.8                   356.21   \n",
       "A Bug's Life                  162.8                   277.18   \n",
       "Toy Story 2                   245.9                   388.43   \n",
       "Monsters, Inc.                255.9                   366.12   \n",
       "Finding Nemo                  339.7                   457.46   \n",
       "The Incredibles               261.4                   341.28   \n",
       "Cars                          244.1                   302.59   \n",
       "Ratatouille                   206.4                   243.65   \n",
       "WALL-E                        223.8                   253.11   \n",
       "Up                            293.0                   318.90   \n",
       "Toy Story 3                   415.0                   423.88   \n",
       "Cars 2                        191.5                   194.43   \n",
       "Brave                         237.3                   243.39   \n",
       "Monsters University           268.5                   269.59   \n",
       "Inside Out                    340.5                   340.50   \n",
       "\n",
       "                     International Gross  Domestic %  International %  \\\n",
       "Movie                                                                   \n",
       "Toy Story                          170.2       52.98            47.02   \n",
       "A Bug's Life                       200.6       44.80            55.20   \n",
       "Toy Story 2                        239.2       50.70            49.32   \n",
       "Monsters, Inc.                     272.9       48.39            51.61   \n",
       "Finding Nemo                       555.9       37.93            62.07   \n",
       "The Incredibles                    370.0       41.40            58.60   \n",
       "Cars                               217.9       52.84            47.16   \n",
       "Ratatouille                        417.3       33.09            66.91   \n",
       "WALL-E                             297.5       42.93            57.07   \n",
       "Up                                 438.3       40.07            59.93   \n",
       "Toy Story 3                        648.2       39.03            60.97   \n",
       "Cars 2                             368.4       34.20            65.80   \n",
       "Brave                              301.7       44.03            55.97   \n",
       "Monsters University                475.1       36.11            63.89   \n",
       "Inside Out                         336.6       50.29            49.71   \n",
       "\n",
       "                     Production Budget  Oscars Nominated  Oscars Won  \n",
       "Movie                                                                 \n",
       "Toy Story                           30               3.0         0.0  \n",
       "A Bug's Life                        45               1.0         0.0  \n",
       "Toy Story 2                         90               1.0         0.0  \n",
       "Monsters, Inc.                     115               3.0         1.0  \n",
       "Finding Nemo                        94               4.0         1.0  \n",
       "The Incredibles                     92               4.0         2.0  \n",
       "Cars                                70               2.0         0.0  \n",
       "Ratatouille                        150               5.0         1.0  \n",
       "WALL-E                             180               6.0         1.0  \n",
       "Up                                 175               5.0         2.0  \n",
       "Toy Story 3                        200               5.0         2.0  \n",
       "Cars 2                             200               0.0         0.0  \n",
       "Brave                              185               1.0         1.0  \n",
       "Monsters University                200               0.0         0.0  \n",
       "Inside Out                         175               NaN         NaN  "
      ]
     },
     "execution_count": 12,
     "metadata": {},
     "output_type": "execute_result"
    }
   ],
   "source": [
    "pixar_movies"
   ]
  },
  {
   "cell_type": "code",
   "execution_count": 13,
   "metadata": {
    "collapsed": false
   },
   "outputs": [
    {
     "data": {
      "text/plain": [
       "<matplotlib.axes._subplots.AxesSubplot at 0x7f6f09922eb8>"
      ]
     },
     "execution_count": 13,
     "metadata": {},
     "output_type": "execute_result"
    },
    {
     "data": {
      "image/png": "[encoded data removed]",
      "text/plain": [
       "<matplotlib.figure.Figure at 0x7f6f0991c550>"
      ]
     },
     "metadata": {},
     "output_type": "display_data"
    }
   ],
   "source": [
    "critics_reviews = pixar_movies[[\"RT Score\",\"Metacritic Score\",\"IMDB Score\"]]\n",
    "critics_reviews.plot()"
   ]
  },
  {
   "cell_type": "code",
   "execution_count": 14,
   "metadata": {
    "collapsed": false
   },
   "outputs": [
    {
     "data": {
      "text/plain": [
       "<matplotlib.axes._subplots.AxesSubplot at 0x7f6f098aeef0>"
      ]
     },
     "execution_count": 14,
     "metadata": {},
     "output_type": "execute_result"
    },
    {
     "data": {
      "image/png": "[encoded data removed]",
      "text/plain": [
       "<matplotlib.figure.Figure at 0x7f6f09845ef0>"
      ]
     },
     "metadata": {},
     "output_type": "display_data"
    }
   ],
   "source": [
    "#Increase plot size\n",
    "\n",
    "critics_reviews.plot(figsize=(10,6))"
   ]
  },
  {
   "cell_type": "code",
   "execution_count": 15,
   "metadata": {
    "collapsed": false
   },
   "outputs": [
    {
     "data": {
      "text/plain": [
       "<matplotlib.axes._subplots.AxesSubplot at 0x7f6f08771630>"
      ]
     },
     "execution_count": 15,
     "metadata": {},
     "output_type": "execute_result"
    },
    {
     "data": {
      "image/png": "[encoded data removed]",
      "text/plain": [
       "<matplotlib.figure.Figure at 0x7f6f0877d2b0>"
      ]
     },
     "metadata": {},
     "output_type": "display_data"
    }
   ],
   "source": [
    "pixar_movies[[\"RT Score\",\"Metacritic Score\",\"IMDB Score\"]].plot(kind=\"box\")"
   ]
  },
  {
   "cell_type": "code",
   "execution_count": 16,
   "metadata": {
    "collapsed": false
   },
   "outputs": [
    {
     "data": {
      "text/plain": [
       "<matplotlib.axes._subplots.AxesSubplot at 0x7f6f086bc400>"
      ]
     },
     "execution_count": 16,
     "metadata": {},
     "output_type": "execute_result"
    },
    {
     "data": {
      "image/png": "[encoded data removed]",
      "text/plain": [
       "<matplotlib.figure.Figure at 0x7f6f086c0278>"
      ]
     },
     "metadata": {},
     "output_type": "display_data"
    }
   ],
   "source": [
    "pixar_movies[[\"RT Score\",\"Metacritic Score\",\"IMDB Score\"]].plot(kind=\"box\", figsize=(9,5))"
   ]
  },
  {
   "cell_type": "code",
   "execution_count": 17,
   "metadata": {
    "collapsed": false
   },
   "outputs": [
    {
     "data": {
      "text/plain": [
       "<matplotlib.axes._subplots.AxesSubplot at 0x7f6f0864a828>"
      ]
     },
     "execution_count": 17,
     "metadata": {},
     "output_type": "execute_result"
    },
    {
     "data": {
      "image/png": "[encoded data removed]",
      "text/plain": [
       "<matplotlib.figure.Figure at 0x7f6f0865f9e8>"
      ]
     },
     "metadata": {},
     "output_type": "display_data"
    }
   ],
   "source": [
    "revenue_proportions = filtered_pixar[[\"Domestic %\", \"International %\"]]\n",
    "revenue_proportions.plot(kind='bar', stacked=True, figsize=(7,6))"
   ]
  },
  {
   "cell_type": "code",
   "execution_count": 18,
   "metadata": {
    "collapsed": false
   },
   "outputs": [
    {
     "data": {
      "text/plain": [
       "<matplotlib.axes._subplots.AxesSubplot at 0x7f6f085e2978>"
      ]
     },
     "execution_count": 18,
     "metadata": {},
     "output_type": "execute_result"
    },
    {
     "data": {
      "image/png": "[encoded data removed]",
      "text/plain": [
       "<matplotlib.figure.Figure at 0x7f6f08591d68>"
      ]
     },
     "metadata": {},
     "output_type": "display_data"
    }
   ],
   "source": [
    "# Grouped bar plot for oscar nominations / oscars won\n",
    "filtered_pixar[[\"Oscars Nominated\",\"Oscars Won\"]].plot(kind='bar', figsize=(10,6))"
   ]
  },
  {
   "cell_type": "code",
   "execution_count": null,
   "metadata": {
    "collapsed": true
   },
   "outputs": [],
   "source": []
  }
 ],
 "metadata": {
  "kernelspec": {
   "display_name": "Python 3",
   "language": "python",
   "name": "python3"
  },
  "language_info": {
   "codemirror_mode": {
    "name": "ipython",
    "version": 3
   },
   "file_extension": ".py",
   "mimetype": "text/x-python",
   "name": "python",
   "nbconvert_exporter": "python",
   "pygments_lexer": "ipython3",
   "version": "3.4.3"
  }
 },
 "nbformat": 4,
 "nbformat_minor": 0
}
