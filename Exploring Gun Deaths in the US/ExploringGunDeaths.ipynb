{
 "cells": [
  {
   "cell_type": "code",
   "execution_count": 1,
   "metadata": {
    "collapsed": false
   },
   "outputs": [
    {
     "data": {
      "text/plain": [
       "[['',\n",
       "  'year',\n",
       "  'month',\n",
       "  'intent',\n",
       "  'police',\n",
       "  'sex',\n",
       "  'age',\n",
       "  'race',\n",
       "  'hispanic',\n",
       "  'place',\n",
       "  'education'],\n",
       " ['1',\n",
       "  '2012',\n",
       "  '01',\n",
       "  'Suicide',\n",
       "  '0',\n",
       "  'M',\n",
       "  '34',\n",
       "  'Asian/Pacific Islander',\n",
       "  '100',\n",
       "  'Home',\n",
       "  '4'],\n",
       " ['2', '2012', '01', 'Suicide', '0', 'F', '21', 'White', '100', 'Street', '3'],\n",
       " ['3',\n",
       "  '2012',\n",
       "  '01',\n",
       "  'Suicide',\n",
       "  '0',\n",
       "  'M',\n",
       "  '60',\n",
       "  'White',\n",
       "  '100',\n",
       "  'Other specified',\n",
       "  '4'],\n",
       " ['4', '2012', '02', 'Suicide', '0', 'M', '64', 'White', '100', 'Home', '4']]"
      ]
     },
     "execution_count": 1,
     "metadata": {},
     "output_type": "execute_result"
    }
   ],
   "source": [
    "import csv\n",
    "f = open(\"guns.csv\",'r')\n",
    "raw = csv.reader(f)\n",
    "data = list(raw)\n",
    "data[0:5]"
   ]
  },
  {
   "cell_type": "code",
   "execution_count": 2,
   "metadata": {
    "collapsed": true
   },
   "outputs": [],
   "source": [
    "headers = data[0]"
   ]
  },
  {
   "cell_type": "code",
   "execution_count": 3,
   "metadata": {
    "collapsed": false
   },
   "outputs": [
    {
     "name": "stdout",
     "output_type": "stream",
     "text": [
      "['', 'year', 'month', 'intent', 'police', 'sex', 'age', 'race', 'hispanic', 'place', 'education']\n"
     ]
    }
   ],
   "source": [
    "print(headers)"
   ]
  },
  {
   "cell_type": "code",
   "execution_count": 4,
   "metadata": {
    "collapsed": true
   },
   "outputs": [],
   "source": [
    "data = data[1:]"
   ]
  },
  {
   "cell_type": "code",
   "execution_count": 5,
   "metadata": {
    "collapsed": false
   },
   "outputs": [
    {
     "data": {
      "text/plain": [
       "[['1',\n",
       "  '2012',\n",
       "  '01',\n",
       "  'Suicide',\n",
       "  '0',\n",
       "  'M',\n",
       "  '34',\n",
       "  'Asian/Pacific Islander',\n",
       "  '100',\n",
       "  'Home',\n",
       "  '4'],\n",
       " ['2', '2012', '01', 'Suicide', '0', 'F', '21', 'White', '100', 'Street', '3'],\n",
       " ['3',\n",
       "  '2012',\n",
       "  '01',\n",
       "  'Suicide',\n",
       "  '0',\n",
       "  'M',\n",
       "  '60',\n",
       "  'White',\n",
       "  '100',\n",
       "  'Other specified',\n",
       "  '4'],\n",
       " ['4', '2012', '02', 'Suicide', '0', 'M', '64', 'White', '100', 'Home', '4'],\n",
       " ['5',\n",
       "  '2012',\n",
       "  '02',\n",
       "  'Suicide',\n",
       "  '0',\n",
       "  'M',\n",
       "  '31',\n",
       "  'White',\n",
       "  '100',\n",
       "  'Other specified',\n",
       "  '2']]"
      ]
     },
     "execution_count": 5,
     "metadata": {},
     "output_type": "execute_result"
    }
   ],
   "source": [
    "data[0:5]"
   ]
  },
  {
   "cell_type": "code",
   "execution_count": 8,
   "metadata": {
    "collapsed": false
   },
   "outputs": [
    {
     "name": "stdout",
     "output_type": "stream",
     "text": [
      "{'2014': 33599, '2013': 33636, '2012': 33563}\n"
     ]
    }
   ],
   "source": [
    "years = [item[1] for item in data]\n",
    "year_counts = {}\n",
    "for elem in years:\n",
    "    if elem not in year_counts:\n",
    "        year_counts[elem] = 1\n",
    "    else:\n",
    "        year_counts[elem] = year_counts[elem] + 1\n",
    "print(year_counts)        "
   ]
  },
  {
   "cell_type": "code",
   "execution_count": 12,
   "metadata": {
    "collapsed": false
   },
   "outputs": [
    {
     "name": "stdout",
     "output_type": "stream",
     "text": [
      "[datetime.datetime(2012, 1, 1, 0, 0), datetime.datetime(2012, 1, 1, 0, 0), datetime.datetime(2012, 1, 1, 0, 0), datetime.datetime(2012, 2, 1, 0, 0), datetime.datetime(2012, 2, 1, 0, 0)]\n"
     ]
    }
   ],
   "source": [
    "import datetime\n",
    "dates = [datetime.datetime(year = int(item[1]),month =int(item[2]), day = 1) for item in data]\n",
    "print(dates[0:5])"
   ]
  },
  {
   "cell_type": "code",
   "execution_count": 16,
   "metadata": {
    "collapsed": false
   },
   "outputs": [
    {
     "name": "stdout",
     "output_type": "stream",
     "text": [
      "{datetime.datetime(2013, 3, 1, 0, 0): 2861, datetime.datetime(2012, 10, 1, 0, 0): 2732, datetime.datetime(2012, 11, 1, 0, 0): 2728, datetime.datetime(2014, 4, 1, 0, 0): 2861, datetime.datetime(2012, 3, 1, 0, 0): 2742, datetime.datetime(2013, 11, 1, 0, 0): 2757, datetime.datetime(2012, 4, 1, 0, 0): 2794, datetime.datetime(2014, 1, 1, 0, 0): 2650, datetime.datetime(2013, 7, 1, 0, 0): 3078, datetime.datetime(2014, 2, 1, 0, 0): 2360, datetime.datetime(2013, 6, 1, 0, 0): 2919, datetime.datetime(2013, 4, 1, 0, 0): 2797, datetime.datetime(2014, 7, 1, 0, 0): 2883, datetime.datetime(2012, 9, 1, 0, 0): 2851, datetime.datetime(2012, 12, 1, 0, 0): 2790, datetime.datetime(2013, 12, 1, 0, 0): 2764, datetime.datetime(2013, 9, 1, 0, 0): 2741, datetime.datetime(2014, 12, 1, 0, 0): 2856, datetime.datetime(2014, 10, 1, 0, 0): 2864, datetime.datetime(2014, 9, 1, 0, 0): 2913, datetime.datetime(2014, 11, 1, 0, 0): 2755, datetime.datetime(2012, 1, 1, 0, 0): 2757, datetime.datetime(2013, 10, 1, 0, 0): 2807, datetime.datetime(2013, 1, 1, 0, 0): 2863, datetime.datetime(2013, 8, 1, 0, 0): 2858, datetime.datetime(2014, 5, 1, 0, 0): 2863, datetime.datetime(2012, 7, 1, 0, 0): 3025, datetime.datetime(2014, 6, 1, 0, 0): 2930, datetime.datetime(2013, 5, 1, 0, 0): 2805, datetime.datetime(2012, 2, 1, 0, 0): 2356, datetime.datetime(2012, 5, 1, 0, 0): 2998, datetime.datetime(2013, 2, 1, 0, 0): 2374, datetime.datetime(2012, 8, 1, 0, 0): 2953, datetime.datetime(2014, 8, 1, 0, 0): 2969, datetime.datetime(2014, 3, 1, 0, 0): 2683, datetime.datetime(2012, 6, 1, 0, 0): 2825}\n",
      "36\n"
     ]
    }
   ],
   "source": [
    "date_counts = {}\n",
    "for item in dates:\n",
    "    if item in date_counts:\n",
    "        date_counts[item] += 1\n",
    "    else:\n",
    "        date_counts[item] = 0\n",
    "print(date_counts) \n",
    "print(len(date_counts))"
   ]
  },
  {
   "cell_type": "code",
   "execution_count": 18,
   "metadata": {
    "collapsed": false
   },
   "outputs": [
    {
     "name": "stdout",
     "output_type": "stream",
     "text": [
      "36\n"
     ]
    }
   ],
   "source": [
    "#date_count = set(dates)\n",
    "#print(len(date_count))"
   ]
  },
  {
   "cell_type": "code",
   "execution_count": 22,
   "metadata": {
    "collapsed": false
   },
   "outputs": [
    {
     "name": "stdout",
     "output_type": "stream",
     "text": [
      "{'F': 14448, 'M': 86348}\n"
     ]
    }
   ],
   "source": [
    "sex_counts = {}\n",
    "gender = [item[5] for item in data]\n",
    "for item in gender:\n",
    "    if item in sex_counts:\n",
    "        sex_counts[item] += 1\n",
    "    else:\n",
    "        sex_counts[item] = 0\n",
    "print(sex_counts)"
   ]
  },
  {
   "cell_type": "code",
   "execution_count": 43,
   "metadata": {
    "collapsed": false
   },
   "outputs": [
    {
     "data": {
      "text/plain": [
       "{'Asian/Pacific Islander': 1326,\n",
       " 'Black': 23296,\n",
       " 'Hispanic': 9022,\n",
       " 'Native American/Native Alaskan': 917,\n",
       " 'White': 66237}"
      ]
     },
     "execution_count": 43,
     "metadata": {},
     "output_type": "execute_result"
    }
   ],
   "source": [
    "races = [row[7] for row in data]\n",
    "race_counts = {}\n",
    "for race in races:\n",
    "    if race not in race_counts:\n",
    "        race_counts[race] = 0\n",
    "    race_counts[race] += 1\n",
    "race_counts       "
   ]
  },
  {
   "cell_type": "markdown",
   "metadata": {},
   "source": [
    "Gun deaths in the US seem to disproportionately affect men vs women. They also seem to disproportionately affect minorities, although having some data on the percentage of each race in the overall US population would help.\n",
    "There appears to be a minor seasonal correlation, with gun deaths peaking in the summer and declining in the winter. It might be useful to filter by intent, to see if different categories of intent have different correlations with season, race, or gender.\n",
    "I explored gun deaths by race in the past screen.  The proportion of each race in the US has to found out. \n",
    "\n",
    "Gun deaths per 100000 people of each race is needed. "
   ]
  },
  {
   "cell_type": "code",
   "execution_count": 44,
   "metadata": {
    "collapsed": false
   },
   "outputs": [
    {
     "name": "stdout",
     "output_type": "stream",
     "text": [
      "[['Id', 'Year', 'Id', 'Sex', 'Id', 'Hispanic Origin', 'Id', 'Id2', 'Geography', 'Total', 'Race Alone - White', 'Race Alone - Hispanic', 'Race Alone - Black or African American', 'Race Alone - American Indian and Alaska Native', 'Race Alone - Asian', 'Race Alone - Native Hawaiian and Other Pacific Islander', 'Two or More Races'], ['cen42010', 'April 1, 2010 Census', 'totsex', 'Both Sexes', 'tothisp', 'Total', '0100000US', '', 'United States', '308745538', '197318956', '44618105', '40250635', '3739506', '15159516', '674625', '6984195']]\n"
     ]
    }
   ],
   "source": [
    "f = open(\"census.csv\", 'r')\n",
    "raw = csv.reader(f)\n",
    "census = list(raw)\n",
    "print(census)"
   ]
  },
  {
   "cell_type": "markdown",
   "metadata": {},
   "source": [
    "In order to get from the raw counts of gun deaths by race to a rate of gun deaths per 100000 people in each race, I need to divide the total number of gun deaths by the population of each race.\n",
    "The racial category is named diffently in the census data. Following is a list of the race name in data, and the corresponding race name in census:\n",
    "Asian/Pacific Islander -- Race Alone - Asian plus Race Alone - Native Hawaiian and Other Pacific Islander.\n",
    "Black -- Race Alone - Black or African American.\n",
    "Hispanic -- Race Alone - Hispanic\n",
    "Native American/Native Alaskan -- Race Alone - American Indian and Alaska Native\n",
    "White -- Race Alone - White"
   ]
  },
  {
   "cell_type": "code",
   "execution_count": 45,
   "metadata": {
    "collapsed": false
   },
   "outputs": [
    {
     "name": "stdout",
     "output_type": "stream",
     "text": [
      "{'Asian/Pacific Islander': 8.374309664161762, 'Native American/Native Alaskan': 24.521955573811088, 'White': 33.56849303419181, 'Hispanic': 20.220491210910907, 'Black': 57.8773477735196}\n"
     ]
    }
   ],
   "source": [
    "mapping = { \"Asian/Pacific Islander\": 15159516 + 674625,\n",
    "    \"Native American/Native Alaskan\": 3739506,\n",
    "    \"Black\": 40250635,\n",
    "    \"Hispanic\": 44618105,\n",
    "    \"White\": 197318956}\n",
    "race_per_hundredk = {}\n",
    "for x,y in race_counts.items():\n",
    "    race_per_hundredk[x] = (y/mapping[x]) * 100000\n",
    "     \n",
    "print(race_per_hundredk)"
   ]
  },
  {
   "cell_type": "markdown",
   "metadata": {},
   "source": [
    "Now, I will count rows where the intent was Homicide. This will tell us what the gun-related murder rate per 100000 people in each racial category is."
   ]
  },
  {
   "cell_type": "code",
   "execution_count": 47,
   "metadata": {
    "collapsed": false
   },
   "outputs": [
    {
     "data": {
      "text/plain": [
       "{'Asian/Pacific Islander': 3.530346230970155,\n",
       " 'Black': 48.471284987180944,\n",
       " 'Hispanic': 12.627161104219914,\n",
       " 'Native American/Native Alaskan': 8.717729026240365,\n",
       " 'White': 4.6356417981453335}"
      ]
     },
     "execution_count": 47,
     "metadata": {},
     "output_type": "execute_result"
    }
   ],
   "source": [
    "intents = [row[3] for row in data]\n",
    "homicide_race_counts = {}\n",
    "for i,race in enumerate(races):\n",
    "    if race not in homicide_race_counts:\n",
    "        homicide_race_counts[race] = 0\n",
    "    if intents[i] == \"Homicide\":\n",
    "        homicide_race_counts[race] += 1\n",
    "\n",
    "race_per_hundredk = {}\n",
    "for k,v in homicide_race_counts.items():\n",
    "    race_per_hundredk[k] = (v / mapping[k]) * 100000\n",
    "\n",
    "race_per_hundredk"
   ]
  },
  {
   "cell_type": "markdown",
   "metadata": {},
   "source": [
    "\n",
    "Findings\n",
    "It appears that gun related homicides in the US disproportionately affect people in the Black and Hispanic racial categories."
   ]
  }
 ],
 "metadata": {
  "kernelspec": {
   "display_name": "Python 3",
   "language": "python",
   "name": "python3"
  },
  "language_info": {
   "codemirror_mode": {
    "name": "ipython",
    "version": 3
   },
   "file_extension": ".py",
   "mimetype": "text/x-python",
   "name": "python",
   "nbconvert_exporter": "python",
   "pygments_lexer": "ipython3",
   "version": "3.4.3"
  }
 },
 "nbformat": 4,
 "nbformat_minor": 0
}
